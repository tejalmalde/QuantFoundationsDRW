{
  "nbformat": 4,
  "nbformat_minor": 0,
  "metadata": {
    "colab": {
      "name": "Exam3.ipynb",
      "provenance": [],
      "authorship_tag": "ABX9TyNPaCZPpk58Y/Xu7bFOLd+X",
      "include_colab_link": true
    },
    "kernelspec": {
      "name": "python3",
      "display_name": "Python 3"
    },
    "language_info": {
      "name": "python"
    }
  },
  "cells": [
    {
      "cell_type": "markdown",
      "metadata": {
        "id": "view-in-github",
        "colab_type": "text"
      },
      "source": [
        "<a href=\"https://colab.research.google.com/github/tejalmalde/QuantFoundationsDRW/blob/main/Exam3.ipynb\" target=\"_parent\"><img src=\"https://colab.research.google.com/assets/colab-badge.svg\" alt=\"Open In Colab\"/></a>"
      ]
    },
    {
      "cell_type": "code",
      "execution_count": null,
      "metadata": {
        "id": "wuGxoncHiNvu"
      },
      "outputs": [],
      "source": [
        "import pandas as pd\n",
        "import numpy as np\n",
        "import matplotlib.pyplot as plt\n",
        "import statsmodels.api as sm  \n",
        "import seaborn as sns\n",
        "\n",
        "\n",
        "plt.style.use('ggplot')"
      ]
    },
    {
      "cell_type": "code",
      "source": [
        "xls = pd.ExcelFile(r'C:\\Users\\teji1\\OneDrive - Imperial College London\\Careers\\2021-22\\DRW\\Learning Program\\hw_3_3_data.xlsx')\n",
        "df1 = pd.read_excel(xls, 'returns')"
      ],
      "metadata": {
        "id": "z9Bw86aAb4Vk"
      },
      "execution_count": null,
      "outputs": []
    }
  ]
}